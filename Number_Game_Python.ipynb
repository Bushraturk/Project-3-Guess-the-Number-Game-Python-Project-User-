{
  "nbformat": 4,
  "nbformat_minor": 0,
  "metadata": {
    "colab": {
      "provenance": [],
      "authorship_tag": "ABX9TyMI/aLtiB4xMm0IVZHViG01",
      "include_colab_link": true
    },
    "kernelspec": {
      "name": "python3",
      "display_name": "Python 3"
    },
    "language_info": {
      "name": "python"
    }
  },
  "cells": [
    {
      "cell_type": "markdown",
      "metadata": {
        "id": "view-in-github",
        "colab_type": "text"
      },
      "source": [
        "<a href=\"https://colab.research.google.com/github/Bushraturk/Project-3-Guess-the-Number-Game-Python-Project-User-/blob/main/Number_Game_Python.ipynb\" target=\"_parent\"><img src=\"https://colab.research.google.com/assets/colab-badge.svg\" alt=\"Open In Colab\"/></a>"
      ]
    },
    {
      "cell_type": "markdown",
      "source": [
        "# Project 3 Guess the Number Game Python Project (User)"
      ],
      "metadata": {
        "id": "zo6A_9-_Lcbk"
      }
    },
    {
      "cell_type": "code",
      "source": [
        "import random\n",
        "print(\"Guess the number between 1 to 100!\")\n",
        "# generate random number\n",
        "number = random.randint(1,100)\n",
        "\n",
        "while True:\n",
        "    user_guess = int(input(\"Enter your guess number: \"))\n",
        "    if user_guess < number:\n",
        "      print(\"To low Number!\")\n",
        "    elif user_guess >number:\n",
        "      print(\"To High Number!\")\n",
        "    else:\n",
        "      print(\"Congratulaion You Got It Right!\")\n",
        "      break\n"
      ],
      "metadata": {
        "colab": {
          "base_uri": "https://localhost:8080/"
        },
        "id": "j9rc9c0uLpvA",
        "outputId": "2a3a1ec3-9809-4b88-d8a4-eff5e8e3cbc9"
      },
      "execution_count": null,
      "outputs": [
        {
          "output_type": "stream",
          "name": "stdout",
          "text": [
            "Guess the number between 1 to 100!\n",
            "Enter your guess number: 59\n",
            "To High Number!\n",
            "Enter your guess number: 45\n",
            "To low Number!\n",
            "Enter your guess number: 44\n",
            "To low Number!\n",
            "Enter your guess number: 49\n",
            "To low Number!\n",
            "Enter your guess number: 50\n",
            "To low Number!\n",
            "Enter your guess number: 55\n",
            "To High Number!\n",
            "Enter your guess number: 52\n",
            "To low Number!\n",
            "Enter your guess number: 54\n",
            "Congratulaion You Got It Right!\n"
          ]
        }
      ]
    },
    {
      "cell_type": "markdown",
      "source": [],
      "metadata": {
        "id": "x5glU6lCLa0w"
      }
    }
  ]
}